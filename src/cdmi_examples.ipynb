{
 "cells": [
  {
   "cell_type": "markdown",
   "metadata": {},
   "source": [
    "# Causal discovery using CDMI\n",
    "\n",
    "### Notebook written by Wasim Ahmad\n",
    "#### Computer Vision Group (CVG)\n",
    "### Friedrich Schiller University (FSU) Jena, Germany\n",
    "#### Last updated on: April 19, 2024\n",
    "\n",
    "The purpose of this notebook is to provide a simple usage example of the `CDMI` for generating causal graph for mulativariate time series. Higher-dimensional time series may require additional computational time or the availaibility of a graphical processing unit."
   ]
  },
  {
   "cell_type": "code",
   "execution_count": 42,
   "metadata": {},
   "outputs": [
    {
     "name": "stdout",
     "output_type": "stream",
     "text": [
      "The autoreload extension is already loaded. To reload it, use:\n",
      "  %reload_ext autoreload\n"
     ]
    }
   ],
   "source": [
    "%load_ext autoreload\n",
    "%autoreload 2"
   ]
  },
  {
   "cell_type": "markdown",
   "metadata": {},
   "source": [
    "#### Load Dependencies"
   ]
  },
  {
   "cell_type": "code",
   "execution_count": 43,
   "metadata": {},
   "outputs": [],
   "source": [
    "import pickle\n",
    "import time\n",
    "import pathlib\n",
    "import parameters\n",
    "import numpy as np\n",
    "import mxnet as mx\n",
    "import pandas as pd\n",
    "import functions as func\n",
    "import dataloader as datasets\n",
    "import matplotlib.pyplot as plt\n",
    "from knockoffs import Knockoffs\n",
    "from regimes import get_regimes\n",
    "from deepcause import deepCause\n",
    "from gluonts.trainer import Trainer\n",
    "from gluonts.dataset.common import ListDataset\n",
    "from gluonts.model.deepar import DeepAREstimator\n",
    "from gluonts.distribution.multivariate_gaussian import MultivariateGaussianOutput\n"
   ]
  },
  {
   "cell_type": "code",
   "execution_count": 44,
   "metadata": {},
   "outputs": [],
   "source": [
    "np.random.seed(1)\n",
    "mx.random.seed(2)"
   ]
  },
  {
   "cell_type": "markdown",
   "metadata": {},
   "source": [
    "#### Load Model Parameters\n",
    "\n",
    "The parameters for model archicture varies from application to application depends on data dimensionality mainly"
   ]
  },
  {
   "cell_type": "code",
   "execution_count": 45,
   "metadata": {},
   "outputs": [
    {
     "name": "stdout",
     "output_type": "stream",
     "text": [
      "Time now: 1713534596.2015922\n"
     ]
    }
   ],
   "source": [
    "start_time = time.time()\n",
    "print(f'Time now: {start_time}')\n",
    "# Parameters\n",
    "pars = parameters.get_geo_params()\n",
    "freq = pars.get(\"freq\")\n",
    "epochs = pars.get(\"epochs\")\n",
    "win_size = pars.get(\"win_size\")\n",
    "slidingwin_size = pars.get(\"slidingwin_size\")\n",
    "training_length = pars.get(\"train_len\")\n",
    "prediction_length = pars.get(\"pred_len\")\n",
    "num_samples = pars.get(\"num_samples\")\n",
    "num_layers = pars.get(\"num_layers\")\n",
    "num_cells = pars.get(\"num_cells\")\n",
    "dropout_rate = pars.get(\"dropout_rate\")\n",
    "batch_size = pars.get(\"batch_size\")\n",
    "plot_path = pars.get(\"plot_path\")\n",
    "model_name = pars.get(\"model_name\") + '2'"
   ]
  },
  {
   "cell_type": "markdown",
   "metadata": {},
   "source": [
    "#### Load Dataset"
   ]
  },
  {
   "cell_type": "code",
   "execution_count": 46,
   "metadata": {},
   "outputs": [
    {
     "data": {
      "text/html": [
       "<div>\n",
       "<style scoped>\n",
       "    .dataframe tbody tr th:only-of-type {\n",
       "        vertical-align: middle;\n",
       "    }\n",
       "\n",
       "    .dataframe tbody tr th {\n",
       "        vertical-align: top;\n",
       "    }\n",
       "\n",
       "    .dataframe thead th {\n",
       "        text-align: right;\n",
       "    }\n",
       "</style>\n",
       "<table border=\"1\" class=\"dataframe\">\n",
       "  <thead>\n",
       "    <tr style=\"text-align: right;\">\n",
       "      <th></th>\n",
       "      <th>T</th>\n",
       "      <th>P</th>\n",
       "      <th>GW$_{mb}$</th>\n",
       "      <th>Strain$_{ns}$</th>\n",
       "    </tr>\n",
       "    <tr>\n",
       "      <th>DateTime</th>\n",
       "      <th></th>\n",
       "      <th></th>\n",
       "      <th></th>\n",
       "      <th></th>\n",
       "    </tr>\n",
       "  </thead>\n",
       "  <tbody>\n",
       "    <tr>\n",
       "      <th>2015-04-01</th>\n",
       "      <td>0.048751</td>\n",
       "      <td>0.247259</td>\n",
       "      <td>0.456807</td>\n",
       "      <td>0.054352</td>\n",
       "    </tr>\n",
       "    <tr>\n",
       "      <th>2015-04-02</th>\n",
       "      <td>0.000000</td>\n",
       "      <td>0.237814</td>\n",
       "      <td>0.450894</td>\n",
       "      <td>0.047039</td>\n",
       "    </tr>\n",
       "    <tr>\n",
       "      <th>2015-04-03</th>\n",
       "      <td>0.031139</td>\n",
       "      <td>0.490049</td>\n",
       "      <td>0.495007</td>\n",
       "      <td>0.033643</td>\n",
       "    </tr>\n",
       "    <tr>\n",
       "      <th>2015-04-04</th>\n",
       "      <td>0.007262</td>\n",
       "      <td>0.391633</td>\n",
       "      <td>0.480678</td>\n",
       "      <td>0.025355</td>\n",
       "    </tr>\n",
       "    <tr>\n",
       "      <th>2015-04-05</th>\n",
       "      <td>0.033211</td>\n",
       "      <td>0.610471</td>\n",
       "      <td>0.439213</td>\n",
       "      <td>0.013274</td>\n",
       "    </tr>\n",
       "  </tbody>\n",
       "</table>\n",
       "</div>"
      ],
      "text/plain": [
       "                   T         P  GW$_{mb}$  Strain$_{ns}$\n",
       "DateTime                                                \n",
       "2015-04-01  0.048751  0.247259   0.456807       0.054352\n",
       "2015-04-02  0.000000  0.237814   0.450894       0.047039\n",
       "2015-04-03  0.031139  0.490049   0.495007       0.033643\n",
       "2015-04-04  0.007262  0.391633   0.480678       0.025355\n",
       "2015-04-05  0.033211  0.610471   0.439213       0.013274"
      ]
     },
     "execution_count": 46,
     "metadata": {},
     "output_type": "execute_result"
    }
   ],
   "source": [
    "df = datasets.load_geo_data()\n",
    "# df.plot(figsize=(9, 4), linewidth=0.66, use_index=True)\n",
    "# plt.show()\n",
    "# func.corr_heatmap(df)\n",
    "df.head()"
   ]
  },
  {
   "cell_type": "markdown",
   "metadata": {},
   "source": [
    "#### Generate Training Dataset"
   ]
  },
  {
   "cell_type": "code",
   "execution_count": 47,
   "metadata": {},
   "outputs": [],
   "source": [
    "original_data = []\n",
    "dim, columns = len(df.columns), df.columns\n",
    "for col in df:\n",
    "    original_data.append(df[col])\n",
    "\n",
    "original_data = np.array(original_data)\n",
    "# training set\n",
    "train_ds = ListDataset(\n",
    "    [\n",
    "        {'start': \"01/03/2015 00:00:00\",\n",
    "         'target': original_data[:, 0: training_length].tolist()\n",
    "         }\n",
    "    ],\n",
    "    freq=freq,\n",
    "    one_dim_target=False\n",
    ")"
   ]
  },
  {
   "cell_type": "markdown",
   "metadata": {},
   "source": [
    "#### Create DeepAR estimator"
   ]
  },
  {
   "cell_type": "code",
   "execution_count": 48,
   "metadata": {},
   "outputs": [],
   "source": [
    "# create estimator\n",
    "estimator = DeepAREstimator(\n",
    "    prediction_length=prediction_length,\n",
    "    context_length=prediction_length,\n",
    "    freq=freq,\n",
    "    num_layers=num_layers,\n",
    "    num_cells=num_cells,\n",
    "    dropout_rate=dropout_rate,\n",
    "    trainer=Trainer(\n",
    "        ctx=\"cpu\",\n",
    "        epochs=epochs,\n",
    "        hybridize=False,\n",
    "        learning_rate=1E-4,\n",
    "        batch_size=32\n",
    "    ),\n",
    "    distr_output=MultivariateGaussianOutput(dim=dim)\n",
    ")"
   ]
  },
  {
   "cell_type": "markdown",
   "metadata": {},
   "source": [
    "### Load/Train Model"
   ]
  },
  {
   "cell_type": "code",
   "execution_count": 49,
   "metadata": {},
   "outputs": [
    {
     "name": "stdout",
     "output_type": "stream",
     "text": [
      "Model: /home/ahmad/Projects/deepCausality/models/trained_model_geotest.sav2\n"
     ]
    }
   ],
   "source": [
    "path = pars.get('model_path')\n",
    "model_path = pathlib.Path(path + model_name)\n",
    "# model_path = \"../models/trained_model_georegime_cli9.sav\"\n",
    "# model_path = \"../models/trained_model_syn22Sep.sav\"\n",
    "# model_path = \"../models/trained_model_river16Jun.sav\"\n",
    "\n",
    "filename = pathlib.Path(model_path)\n",
    "print(f'Model: {filename}')\n",
    "if not filename.exists():\n",
    "    print(\"Training forecasting model....\")\n",
    "    predictor = estimator.train(train_ds)\n",
    "    # save the model to disk\n",
    "    pickle.dump(predictor, open(filename, 'wb'))"
   ]
  },
  {
   "cell_type": "markdown",
   "metadata": {},
   "source": [
    "#### Generate Knockoffs"
   ]
  },
  {
   "cell_type": "code",
   "execution_count": 50,
   "metadata": {},
   "outputs": [],
   "source": [
    "data_actual = np.array(original_data[:, :]).transpose()\n",
    "n = len(original_data[:, 0])\n",
    "obj = Knockoffs()\n",
    "params = {\"length\": n, \"dim\": dim, \"col\": columns}\n",
    "knockoffs = obj.GenKnockoffs(data_actual, params)"
   ]
  },
  {
   "cell_type": "markdown",
   "metadata": {},
   "source": [
    "#### Esimate Causal Links"
   ]
  },
  {
   "cell_type": "code",
   "execution_count": 51,
   "metadata": {},
   "outputs": [
    {
     "name": "stdout",
     "output_type": "stream",
     "text": [
      "-------------*****-----------------------*****-------------\n",
      "Causal Link: T --------------> T\n",
      "-------------*****-----------------------*****-------------\n",
      "Intervention: In-dist\n",
      "Test statistic: 0.4, p-value: 0.42, KLD: -0.06\n",
      "\u001b[94mFail to reject null hypothesis\u001b[0m\n",
      "Intervention: Out-dist\n",
      "Test statistic: 1.0, p-value: 0.0, KLD: -4.31\n",
      "\u001b[92mNull hypothesis is rejected\u001b[0m\n",
      "Intervention: Mean\n",
      "Test statistic: 0.6, p-value: 0.05, KLD: -0.22\n",
      "\u001b[94mFail to reject null hypothesis\u001b[0m\n",
      "Intervention: Uniform\n",
      "Test statistic: 1.0, p-value: 0.0, KLD: -1.49\n",
      "\u001b[92mNull hypothesis is rejected\u001b[0m\n",
      "-------------*****-----------------------*****-------------\n",
      "Causal Link: T --------------> P\n",
      "-------------*****-----------------------*****-------------\n",
      "Intervention: In-dist\n",
      "Test statistic: 0.5, p-value: 0.17, KLD: 0.34\n",
      "\u001b[94mFail to reject null hypothesis\u001b[0m\n",
      "Intervention: Out-dist\n",
      "Test statistic: 0.9, p-value: 0.0, KLD: -0.81\n",
      "\u001b[92mNull hypothesis is rejected\u001b[0m\n",
      "Intervention: Mean\n",
      "Test statistic: 0.4, p-value: 0.42, KLD: 0.27\n",
      "\u001b[94mFail to reject null hypothesis\u001b[0m\n",
      "Intervention: Uniform\n",
      "Test statistic: 0.8, p-value: 0.0, KLD: -0.74\n",
      "\u001b[92mNull hypothesis is rejected\u001b[0m\n",
      "-------------*****-----------------------*****-------------\n",
      "Causal Link: T --------------> GW$_{mb}$\n",
      "-------------*****-----------------------*****-------------\n",
      "Intervention: In-dist\n",
      "Test statistic: 0.3, p-value: 0.79, KLD: 0.18\n",
      "\u001b[94mFail to reject null hypothesis\u001b[0m\n",
      "Intervention: Out-dist\n",
      "Test statistic: 0.2, p-value: 0.99, KLD: -0.38\n",
      "\u001b[94mFail to reject null hypothesis\u001b[0m\n",
      "Intervention: Mean\n",
      "Test statistic: 0.3, p-value: 0.79, KLD: -0.5\n",
      "\u001b[94mFail to reject null hypothesis\u001b[0m\n",
      "Intervention: Uniform\n",
      "Test statistic: 1.0, p-value: 0.0, KLD: 6.45\n",
      "\u001b[92mNull hypothesis is rejected\u001b[0m\n",
      "-------------*****-----------------------*****-------------\n",
      "Causal Link: T --------------> Strain$_{ns}$\n",
      "-------------*****-----------------------*****-------------\n",
      "Intervention: In-dist\n",
      "Test statistic: 0.2, p-value: 0.99, KLD: 0.04\n",
      "\u001b[94mFail to reject null hypothesis\u001b[0m\n",
      "Intervention: Out-dist\n",
      "Test statistic: 1.0, p-value: 0.0, KLD: -0.75\n",
      "\u001b[92mNull hypothesis is rejected\u001b[0m\n",
      "Intervention: Mean\n",
      "Test statistic: 0.4, p-value: 0.42, KLD: 0.15\n",
      "\u001b[94mFail to reject null hypothesis\u001b[0m\n",
      "Intervention: Uniform\n",
      "Test statistic: 0.9, p-value: 0.0, KLD: -0.57\n",
      "\u001b[92mNull hypothesis is rejected\u001b[0m\n",
      "-------------*****-----------------------*****-------------\n",
      "Causal Link: P --------------> T\n",
      "-------------*****-----------------------*****-------------\n",
      "Intervention: In-dist\n",
      "Test statistic: 0.5, p-value: 0.17, KLD: -0.17\n",
      "\u001b[94mFail to reject null hypothesis\u001b[0m\n",
      "Intervention: Out-dist\n",
      "Test statistic: 0.9, p-value: 0.0, KLD: -0.73\n",
      "\u001b[92mNull hypothesis is rejected\u001b[0m\n",
      "Intervention: Mean\n",
      "Test statistic: 0.9, p-value: 0.0, KLD: -0.22\n",
      "\u001b[92mNull hypothesis is rejected\u001b[0m\n",
      "Intervention: Uniform\n",
      "Test statistic: 0.9, p-value: 0.0, KLD: -0.7\n",
      "\u001b[92mNull hypothesis is rejected\u001b[0m\n",
      "-------------*****-----------------------*****-------------\n",
      "Causal Link: P --------------> P\n",
      "-------------*****-----------------------*****-------------\n",
      "Intervention: In-dist\n",
      "Test statistic: 0.3, p-value: 0.79, KLD: -0.02\n",
      "\u001b[94mFail to reject null hypothesis\u001b[0m\n",
      "Intervention: Out-dist\n",
      "Test statistic: 1.0, p-value: 0.0, KLD: -5.88\n",
      "\u001b[92mNull hypothesis is rejected\u001b[0m\n",
      "Intervention: Mean\n",
      "Test statistic: 0.3, p-value: 0.79, KLD: 0.11\n",
      "\u001b[94mFail to reject null hypothesis\u001b[0m\n",
      "Intervention: Uniform\n",
      "Test statistic: 1.0, p-value: 0.0, KLD: -1.52\n",
      "\u001b[92mNull hypothesis is rejected\u001b[0m\n",
      "-------------*****-----------------------*****-------------\n",
      "Causal Link: P --------------> GW$_{mb}$\n",
      "-------------*****-----------------------*****-------------\n",
      "Intervention: In-dist\n",
      "Test statistic: 0.4, p-value: 0.42, KLD: 0.43\n",
      "\u001b[94mFail to reject null hypothesis\u001b[0m\n",
      "Intervention: Out-dist\n",
      "Test statistic: 0.7, p-value: 0.01, KLD: 1.82\n",
      "\u001b[92mNull hypothesis is rejected\u001b[0m\n",
      "Intervention: Mean\n",
      "Test statistic: 0.4, p-value: 0.42, KLD: 0.67\n",
      "\u001b[94mFail to reject null hypothesis\u001b[0m\n",
      "Intervention: Uniform\n",
      "Test statistic: 0.2, p-value: 0.99, KLD: 0.12\n",
      "\u001b[94mFail to reject null hypothesis\u001b[0m\n",
      "-------------*****-----------------------*****-------------\n",
      "Causal Link: P --------------> Strain$_{ns}$\n",
      "-------------*****-----------------------*****-------------\n",
      "Intervention: In-dist\n",
      "Test statistic: 0.5, p-value: 0.17, KLD: -0.13\n",
      "\u001b[94mFail to reject null hypothesis\u001b[0m\n",
      "Intervention: Out-dist\n",
      "Test statistic: 0.9, p-value: 0.0, KLD: -0.39\n",
      "\u001b[92mNull hypothesis is rejected\u001b[0m\n",
      "Intervention: Mean\n",
      "Test statistic: 0.5, p-value: 0.17, KLD: 0.17\n",
      "\u001b[94mFail to reject null hypothesis\u001b[0m\n",
      "Intervention: Uniform\n",
      "Test statistic: 0.7, p-value: 0.01, KLD: -0.42\n",
      "\u001b[92mNull hypothesis is rejected\u001b[0m\n",
      "-------------*****-----------------------*****-------------\n",
      "Causal Link: GW$_{mb}$ --------------> T\n",
      "-------------*****-----------------------*****-------------\n",
      "Intervention: In-dist\n",
      "Test statistic: 0.5, p-value: 0.17, KLD: -0.22\n",
      "\u001b[94mFail to reject null hypothesis\u001b[0m\n",
      "Intervention: Out-dist\n",
      "Test statistic: 1.0, p-value: 0.0, KLD: -0.74\n",
      "\u001b[92mNull hypothesis is rejected\u001b[0m\n",
      "Intervention: Mean\n",
      "Test statistic: 0.7, p-value: 0.01, KLD: -0.22\n",
      "\u001b[92mNull hypothesis is rejected\u001b[0m\n",
      "Intervention: Uniform\n",
      "Test statistic: 1.0, p-value: 0.0, KLD: -1.67\n",
      "\u001b[92mNull hypothesis is rejected\u001b[0m\n",
      "-------------*****-----------------------*****-------------\n",
      "Causal Link: GW$_{mb}$ --------------> P\n",
      "-------------*****-----------------------*****-------------\n",
      "Intervention: In-dist\n",
      "Test statistic: 0.4, p-value: 0.42, KLD: -0.12\n",
      "\u001b[94mFail to reject null hypothesis\u001b[0m\n",
      "Intervention: Out-dist\n",
      "Test statistic: 0.6, p-value: 0.05, KLD: -0.41\n",
      "\u001b[94mFail to reject null hypothesis\u001b[0m\n",
      "Intervention: Mean\n",
      "Test statistic: 0.3, p-value: 0.79, KLD: 0.0\n",
      "\u001b[94mFail to reject null hypothesis\u001b[0m\n",
      "Intervention: Uniform\n",
      "Test statistic: 0.5, p-value: 0.17, KLD: -0.28\n",
      "\u001b[94mFail to reject null hypothesis\u001b[0m\n",
      "-------------*****-----------------------*****-------------\n",
      "Causal Link: GW$_{mb}$ --------------> GW$_{mb}$\n",
      "-------------*****-----------------------*****-------------\n",
      "Intervention: In-dist\n",
      "Test statistic: 0.8, p-value: 0.0, KLD: 4.24\n",
      "\u001b[92mNull hypothesis is rejected\u001b[0m\n",
      "Intervention: Out-dist\n",
      "Test statistic: 1.0, p-value: 0.0, KLD: -24.87\n",
      "\u001b[92mNull hypothesis is rejected\u001b[0m\n",
      "Intervention: Mean\n",
      "Test statistic: 0.7, p-value: 0.01, KLD: 1.63\n",
      "\u001b[92mNull hypothesis is rejected\u001b[0m\n",
      "Intervention: Uniform\n",
      "Test statistic: 0.8, p-value: 0.0, KLD: 2.38\n",
      "\u001b[92mNull hypothesis is rejected\u001b[0m\n",
      "-------------*****-----------------------*****-------------\n",
      "Causal Link: GW$_{mb}$ --------------> Strain$_{ns}$\n",
      "-------------*****-----------------------*****-------------\n",
      "Intervention: In-dist\n",
      "Test statistic: 0.2, p-value: 0.99, KLD: 0.09\n",
      "\u001b[94mFail to reject null hypothesis\u001b[0m\n",
      "Intervention: Out-dist\n",
      "Test statistic: 1.0, p-value: 0.0, KLD: -0.75\n",
      "\u001b[92mNull hypothesis is rejected\u001b[0m\n",
      "Intervention: Mean\n",
      "Test statistic: 0.5, p-value: 0.17, KLD: 0.17\n",
      "\u001b[94mFail to reject null hypothesis\u001b[0m\n",
      "Intervention: Uniform\n",
      "Test statistic: 1.0, p-value: 0.0, KLD: -0.79\n",
      "\u001b[92mNull hypothesis is rejected\u001b[0m\n",
      "-------------*****-----------------------*****-------------\n",
      "Causal Link: Strain$_{ns}$ --------------> T\n",
      "-------------*****-----------------------*****-------------\n",
      "Intervention: In-dist\n",
      "Test statistic: 0.7, p-value: 0.01, KLD: -0.4\n",
      "\u001b[92mNull hypothesis is rejected\u001b[0m\n",
      "Intervention: Out-dist\n",
      "Test statistic: 0.8, p-value: 0.0, KLD: -0.26\n",
      "\u001b[92mNull hypothesis is rejected\u001b[0m\n",
      "Intervention: Mean\n",
      "Test statistic: 0.9, p-value: 0.0, KLD: -0.46\n",
      "\u001b[92mNull hypothesis is rejected\u001b[0m\n",
      "Intervention: Uniform\n",
      "Test statistic: 1.0, p-value: 0.0, KLD: -0.51\n",
      "\u001b[92mNull hypothesis is rejected\u001b[0m\n",
      "-------------*****-----------------------*****-------------\n",
      "Causal Link: Strain$_{ns}$ --------------> P\n",
      "-------------*****-----------------------*****-------------\n",
      "Intervention: In-dist\n",
      "Test statistic: 0.3, p-value: 0.79, KLD: 0.13\n",
      "\u001b[94mFail to reject null hypothesis\u001b[0m\n",
      "Intervention: Out-dist\n",
      "Test statistic: 0.4, p-value: 0.42, KLD: 0.01\n",
      "\u001b[94mFail to reject null hypothesis\u001b[0m\n",
      "Intervention: Mean\n",
      "Test statistic: 0.3, p-value: 0.79, KLD: 0.13\n",
      "\u001b[94mFail to reject null hypothesis\u001b[0m\n",
      "Intervention: Uniform\n",
      "Test statistic: 0.6, p-value: 0.05, KLD: -0.33\n",
      "\u001b[94mFail to reject null hypothesis\u001b[0m\n",
      "-------------*****-----------------------*****-------------\n",
      "Causal Link: Strain$_{ns}$ --------------> GW$_{mb}$\n",
      "-------------*****-----------------------*****-------------\n",
      "Intervention: In-dist\n",
      "Test statistic: 0.5, p-value: 0.17, KLD: -0.67\n",
      "\u001b[94mFail to reject null hypothesis\u001b[0m\n",
      "Intervention: Out-dist\n",
      "Test statistic: 0.7, p-value: 0.01, KLD: -1.33\n",
      "\u001b[92mNull hypothesis is rejected\u001b[0m\n",
      "Intervention: Mean\n",
      "Test statistic: 0.4, p-value: 0.42, KLD: -0.84\n",
      "\u001b[94mFail to reject null hypothesis\u001b[0m\n",
      "Intervention: Uniform\n",
      "Test statistic: 0.8, p-value: 0.0, KLD: 3.11\n",
      "\u001b[92mNull hypothesis is rejected\u001b[0m\n",
      "-------------*****-----------------------*****-------------\n",
      "Causal Link: Strain$_{ns}$ --------------> Strain$_{ns}$\n",
      "-------------*****-----------------------*****-------------\n",
      "Intervention: In-dist\n",
      "Test statistic: 1.0, p-value: 0.0, KLD: -0.81\n",
      "\u001b[92mNull hypothesis is rejected\u001b[0m\n",
      "Intervention: Out-dist\n",
      "Test statistic: 1.0, p-value: 0.0, KLD: -3.28\n",
      "\u001b[92mNull hypothesis is rejected\u001b[0m\n",
      "Intervention: Mean\n",
      "Test statistic: 1.0, p-value: 0.0, KLD: -0.87\n",
      "\u001b[92mNull hypothesis is rejected\u001b[0m\n",
      "Intervention: Uniform\n",
      "Test statistic: 1.0, p-value: 0.0, KLD: -1.29\n",
      "\u001b[92mNull hypothesis is rejected\u001b[0m\n",
      "-------------*****-----------------------*****-------------\n",
      "Discovered Causal Structure:\n",
      " [[1 0 0 0]\n",
      " [0 1 0 0]\n",
      " [0 0 1 0]\n",
      " [1 0 0 1]]\n"
     ]
    }
   ],
   "source": [
    "# Function for estimating causal impact among variables\n",
    "causal_matrix, predicted_graph, end_time = deepCause(original_data, knockoffs, model_path, params)"
   ]
  },
  {
   "cell_type": "markdown",
   "metadata": {},
   "source": [
    "#### Generate Causal Graph"
   ]
  },
  {
   "cell_type": "code",
   "execution_count": 52,
   "metadata": {},
   "outputs": [
    {
     "data": {
      "image/png": "[encoded data removed]",
      "text/plain": [
       "<Figure size 1200x1200 with 1 Axes>"
      ]
     },
     "metadata": {},
     "output_type": "display_data"
    }
   ],
   "source": [
    "func.plot_causal_graph(causal_matrix, columns, model_name)"
   ]
  },
  {
   "cell_type": "markdown",
   "metadata": {},
   "source": [
    "#### Evaluate CDMI Performance"
   ]
  },
  {
   "cell_type": "code",
   "execution_count": 54,
   "metadata": {},
   "outputs": [],
   "source": [
    "intervention_methods = ['In-dist', 'Out-dist', 'Mean', 'Uniform']\n",
    "actual_graph = pars.get(\"true_graph\")\n",
    "# func.evaluate(actual_graph, predicted_graph, intervention_methods)"
   ]
  },
  {
   "cell_type": "markdown",
   "metadata": {},
   "source": [
    "#### Computation Time"
   ]
  },
  {
   "cell_type": "code",
   "execution_count": null,
   "metadata": {},
   "outputs": [
    {
     "name": "stdout",
     "output_type": "stream",
     "text": [
      "Computation time: 10 mins\n"
     ]
    }
   ],
   "source": [
    "# Calculate difference\n",
    "elapsed_time = end_time - start_time\n",
    "# Print elapsed time\n",
    "print(\"Computation time:\", round(elapsed_time/60), \"mins\")"
   ]
  }
 ],
 "metadata": {
  "kernelspec": {
   "display_name": "Python 3",
   "language": "python",
   "name": "python3"
  },
  "language_info": {
   "codemirror_mode": {
    "name": "ipython",
    "version": 3
   },
   "file_extension": ".py",
   "mimetype": "text/x-python",
   "name": "python",
   "nbconvert_exporter": "python",
   "pygments_lexer": "ipython3",
   "version": "3.8.15"
  }
 },
 "nbformat": 4,
 "nbformat_minor": 2
}
