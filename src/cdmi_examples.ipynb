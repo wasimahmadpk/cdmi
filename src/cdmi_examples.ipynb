{
 "cells": [
  {
   "cell_type": "markdown",
   "metadata": {},
   "source": [
    "#### CDMI: Causal Discovery in Multivariate Timeseries\n",
    "\n",
    "###### Notebook written by Wasim Ahmad <br> Computer Vision Group (CVG) <br> Friedrich Schiller University (FSU) Jena, Germany <br> Last updated on: April 19, 2024\n",
    "\n",
    "\n",
    "The purpose of this notebook is to provide a simple usage example of the `CDMI` for generating causal graph for mulativariate time series. Higher-dimensional time series may require additional computational time or the availaibility of a graphical processing unit."
   ]
  },
  {
   "cell_type": "code",
   "execution_count": 74,
   "metadata": {},
   "outputs": [
    {
     "name": "stdout",
     "output_type": "stream",
     "text": [
      "The autoreload extension is already loaded. To reload it, use:\n",
      "  %reload_ext autoreload\n"
     ]
    }
   ],
   "source": [
    "%load_ext autoreload\n",
    "%autoreload 2"
   ]
  },
  {
   "cell_type": "markdown",
   "metadata": {},
   "source": [
    "##### Dependencies"
   ]
  },
  {
   "cell_type": "code",
   "execution_count": 75,
   "metadata": {},
   "outputs": [],
   "source": [
    "import pickle\n",
    "import time\n",
    "import pathlib\n",
    "import cdmi\n",
    "import parameters\n",
    "import numpy as np\n",
    "import mxnet as mx\n",
    "import pandas as pd\n",
    "import functions as func\n",
    "import dataloader as datasets\n",
    "import matplotlib.pyplot as plt\n",
    "from knockoffs import Knockoffs\n",
    "from regimes import get_regimes\n",
    "from deepcause import deepCause\n",
    "from gluonts.trainer import Trainer\n",
    "from gluonts.dataset.common import ListDataset\n",
    "from gluonts.model.deepar import DeepAREstimator\n",
    "from gluonts.distribution.multivariate_gaussian import MultivariateGaussianOutput\n"
   ]
  },
  {
   "cell_type": "code",
   "execution_count": 76,
   "metadata": {},
   "outputs": [],
   "source": [
    "np.random.seed(1)\n",
    "mx.random.seed(2)"
   ]
  },
  {
   "cell_type": "markdown",
   "metadata": {},
   "source": [
    "##### Model Parameters\n",
    "\n",
    "The parameters for model archicture varies from application to application depends on data dimensionality mainly"
   ]
  },
  {
   "cell_type": "code",
   "execution_count": 95,
   "metadata": {},
   "outputs": [
    {
     "name": "stdout",
     "output_type": "stream",
     "text": [
      "Time now: 1737738569.8818793\n"
     ]
    }
   ],
   "source": [
    "start_time = time.time()\n",
    "print(f'Time now: {start_time}')\n",
    "# Parameters\n",
    "pars = parameters.get_rivernet_params()\n",
    "freq = pars.get(\"freq\")\n",
    "epochs = pars.get(\"epochs\")\n",
    "win_size = pars.get(\"step_size\")\n",
    "slidingwin_size = pars.get(\"num_sliding_win\")\n",
    "training_length = pars.get(\"train_len\")\n",
    "prediction_length = pars.get(\"pred_len\")\n",
    "num_samples = pars.get(\"num_samples\")\n",
    "num_layers = pars.get(\"num_layers\")\n",
    "num_cells = pars.get(\"num_cells\")\n",
    "dropout_rate = pars.get(\"dropout_rate\")\n",
    "batch_size = pars.get(\"batch_size\")\n",
    "plot_path = pars.get(\"plot_path\")\n",
    "model_name = pars.get(\"model_name\")"
   ]
  },
  {
   "cell_type": "markdown",
   "metadata": {},
   "source": [
    "##### Load Dataset"
   ]
  },
  {
   "cell_type": "code",
   "execution_count": 96,
   "metadata": {},
   "outputs": [
    {
     "data": {
      "text/plain": [
       "50"
      ]
     },
     "execution_count": 96,
     "metadata": {},
     "output_type": "execute_result"
    }
   ],
   "source": [
    "epochs"
   ]
  },
  {
   "cell_type": "markdown",
   "metadata": {},
   "source": [
    "##### Discover Causal Graph"
   ]
  },
  {
   "cell_type": "code",
   "execution_count": null,
   "metadata": {},
   "outputs": [
    {
     "name": "stdout",
     "output_type": "stream",
     "text": [
      "trained_rivernet_0\n",
      "COnfMat: 2\n",
      "Training forecasting model....\n",
      "learning rate from ``lr_scheduler`` has been overwritten by ``learning_rate`` in optimizer.\n"
     ]
    },
    {
     "name": "stderr",
     "output_type": "stream",
     "text": [
      "100%|██████████| 50/50 [00:11<00:00,  4.34it/s, epoch=1/50, avg_epoch_loss=16.5]\n",
      "100%|██████████| 50/50 [00:10<00:00,  4.87it/s, epoch=2/50, avg_epoch_loss=12.2]\n",
      "100%|██████████| 50/50 [00:10<00:00,  4.71it/s, epoch=3/50, avg_epoch_loss=11.6]\n",
      "100%|██████████| 50/50 [00:13<00:00,  3.77it/s, epoch=4/50, avg_epoch_loss=10.8]\n",
      "100%|██████████| 50/50 [00:12<00:00,  4.16it/s, epoch=5/50, avg_epoch_loss=10.2]\n",
      "100%|██████████| 50/50 [00:10<00:00,  4.69it/s, epoch=6/50, avg_epoch_loss=9.34]\n",
      "100%|██████████| 50/50 [00:10<00:00,  4.66it/s, epoch=7/50, avg_epoch_loss=8.78]\n",
      "100%|██████████| 50/50 [00:11<00:00,  4.33it/s, epoch=8/50, avg_epoch_loss=8.38]\n",
      "100%|██████████| 50/50 [00:11<00:00,  4.45it/s, epoch=9/50, avg_epoch_loss=7.94]\n",
      "100%|██████████| 50/50 [00:12<00:00,  4.12it/s, epoch=10/50, avg_epoch_loss=7.27]\n",
      "100%|██████████| 50/50 [00:12<00:00,  3.90it/s, epoch=11/50, avg_epoch_loss=7.02]\n",
      "100%|██████████| 50/50 [00:12<00:00,  4.13it/s, epoch=12/50, avg_epoch_loss=6.51]\n",
      "100%|██████████| 50/50 [00:11<00:00,  4.31it/s, epoch=13/50, avg_epoch_loss=5.99]\n",
      "100%|██████████| 50/50 [00:11<00:00,  4.26it/s, epoch=14/50, avg_epoch_loss=5.89]\n",
      "100%|██████████| 50/50 [00:11<00:00,  4.40it/s, epoch=15/50, avg_epoch_loss=5.47]\n",
      "100%|██████████| 50/50 [00:11<00:00,  4.36it/s, epoch=16/50, avg_epoch_loss=5.3] \n",
      "100%|██████████| 50/50 [00:12<00:00,  3.85it/s, epoch=17/50, avg_epoch_loss=5.12]\n",
      "100%|██████████| 50/50 [00:12<00:00,  3.93it/s, epoch=18/50, avg_epoch_loss=5]   \n",
      "100%|██████████| 50/50 [00:11<00:00,  4.40it/s, epoch=19/50, avg_epoch_loss=4.74]\n",
      "100%|██████████| 50/50 [00:10<00:00,  4.60it/s, epoch=20/50, avg_epoch_loss=4.69]\n",
      "100%|██████████| 50/50 [00:12<00:00,  4.14it/s, epoch=21/50, avg_epoch_loss=4.55]\n",
      "100%|██████████| 50/50 [00:13<00:00,  3.83it/s, epoch=22/50, avg_epoch_loss=4.51]\n",
      "100%|██████████| 50/50 [00:11<00:00,  4.50it/s, epoch=23/50, avg_epoch_loss=4.42]\n",
      "100%|██████████| 50/50 [00:11<00:00,  4.35it/s, epoch=24/50, avg_epoch_loss=4.17]\n",
      "100%|██████████| 50/50 [00:12<00:00,  4.07it/s, epoch=25/50, avg_epoch_loss=4.47]\n",
      "100%|██████████| 50/50 [00:12<00:00,  3.87it/s, epoch=26/50, avg_epoch_loss=4.2] \n",
      "100%|██████████| 50/50 [00:12<00:00,  4.05it/s, epoch=27/50, avg_epoch_loss=4.05]\n",
      "100%|██████████| 50/50 [00:11<00:00,  4.53it/s, epoch=28/50, avg_epoch_loss=4.09]\n",
      "100%|██████████| 50/50 [00:11<00:00,  4.30it/s, epoch=29/50, avg_epoch_loss=3.97]\n",
      "100%|██████████| 50/50 [00:11<00:00,  4.33it/s, epoch=30/50, avg_epoch_loss=3.83]\n",
      "100%|██████████| 50/50 [00:09<00:00,  5.03it/s, epoch=31/50, avg_epoch_loss=3.95]\n",
      "100%|██████████| 50/50 [00:10<00:00,  4.77it/s, epoch=32/50, avg_epoch_loss=3.66]\n",
      "100%|██████████| 50/50 [00:09<00:00,  5.07it/s, epoch=33/50, avg_epoch_loss=3.71]\n",
      "  0%|          | 0/50 [00:00<?, ?it/s]"
     ]
    }
   ],
   "source": [
    "fmax_rivers = []\n",
    "for river_idx in range(10):\n",
    "\n",
    "    df, graph = datasets.load_rivernet(river_idx)\n",
    "    pars.update({f'model_name': model_name + '_' + str(river_idx)})\n",
    "    print(pars.get('model_name'))\n",
    "    pars[\"true_graph\"] = graph\n",
    "    # df.plot(figsize=(9, 4), linewidth=0.66, use_index=True)\n",
    "    # plt.show()\n",
    "    # func.corr_heatmap(df)\n",
    "    causal_matrix, causal_graph, fmax, computation_time = cdmi.causal_graph(df, pars)\n",
    "    fmax_rivers.append(fmax)"
   ]
  },
  {
   "cell_type": "code",
   "execution_count": null,
   "metadata": {},
   "outputs": [],
   "source": []
  }
 ],
 "metadata": {
  "kernelspec": {
   "display_name": "deepcause",
   "language": "python",
   "name": "python3"
  },
  "language_info": {
   "codemirror_mode": {
    "name": "ipython",
    "version": 3
   },
   "file_extension": ".py",
   "mimetype": "text/x-python",
   "name": "python",
   "nbconvert_exporter": "python",
   "pygments_lexer": "ipython3",
   "version": "3.8.15"
  }
 },
 "nbformat": 4,
 "nbformat_minor": 2
}
