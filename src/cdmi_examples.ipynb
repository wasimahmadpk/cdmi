{
 "cells": [
  {
   "cell_type": "markdown",
   "metadata": {},
   "source": [
    "## CDMI: Causal Discovery in Multivariate Timeseries\n",
    "\n",
    "##### Notebook written by Wasim Ahmad\n",
    "##### Computer Vision Group (CVG)\n",
    "##### Friedrich Schiller University (FSU) Jena, Germany\n",
    "###### Last updated on: April 19, 2024\n",
    "\n",
    "\n",
    "The purpose of this notebook is to provide a simple usage example of the `CDMI` for generating causal graph for mulativariate time series. Higher-dimensional time series may require additional computational time or the availaibility of a graphical processing unit."
   ]
  },
  {
   "cell_type": "code",
   "execution_count": 9,
   "metadata": {},
   "outputs": [
    {
     "name": "stdout",
     "output_type": "stream",
     "text": [
      "The autoreload extension is already loaded. To reload it, use:\n",
      "  %reload_ext autoreload\n"
     ]
    }
   ],
   "source": [
    "%load_ext autoreload\n",
    "%autoreload 2"
   ]
  },
  {
   "cell_type": "markdown",
   "metadata": {},
   "source": [
    "#### Load Dependencies"
   ]
  },
  {
   "cell_type": "code",
   "execution_count": 10,
   "metadata": {},
   "outputs": [],
   "source": [
    "import pickle\n",
    "import time\n",
    "import pathlib\n",
    "import parameters\n",
    "import numpy as np\n",
    "import mxnet as mx\n",
    "import pandas as pd\n",
    "import functions as func\n",
    "import dataloader as datasets\n",
    "import matplotlib.pyplot as plt\n",
    "from knockoffs import Knockoffs\n",
    "from regimes import get_regimes\n",
    "from deepcause import deepCause\n",
    "from gluonts.trainer import Trainer\n",
    "from gluonts.dataset.common import ListDataset\n",
    "from gluonts.model.deepar import DeepAREstimator\n",
    "from gluonts.distribution.multivariate_gaussian import MultivariateGaussianOutput\n"
   ]
  },
  {
   "cell_type": "code",
   "execution_count": 11,
   "metadata": {},
   "outputs": [],
   "source": [
    "np.random.seed(1)\n",
    "mx.random.seed(2)"
   ]
  },
  {
   "cell_type": "markdown",
   "metadata": {},
   "source": [
    "#### Load Model Parameters\n",
    "\n",
    "The parameters for model archicture varies from application to application depends on data dimensionality mainly"
   ]
  },
  {
   "cell_type": "code",
   "execution_count": 13,
   "metadata": {},
   "outputs": [
    {
     "name": "stdout",
     "output_type": "stream",
     "text": [
      "Time now: 1713882705.821096\n"
     ]
    }
   ],
   "source": [
    "start_time = time.time()\n",
    "print(f'Time now: {start_time}')\n",
    "# Parameters\n",
    "pars = parameters.get_rivernet_params()\n",
    "freq = pars.get(\"freq\")\n",
    "epochs = pars.get(\"epochs\")\n",
    "win_size = pars.get(\"win_size\")\n",
    "slidingwin_size = pars.get(\"slidingwin_size\")\n",
    "training_length = pars.get(\"train_len\")\n",
    "prediction_length = pars.get(\"pred_len\")\n",
    "num_samples = pars.get(\"num_samples\")\n",
    "num_layers = pars.get(\"num_layers\")\n",
    "num_cells = pars.get(\"num_cells\")\n",
    "dropout_rate = pars.get(\"dropout_rate\")\n",
    "batch_size = pars.get(\"batch_size\")\n",
    "plot_path = pars.get(\"plot_path\")\n",
    "model_name = pars.get(\"model_name\") + '2'"
   ]
  },
  {
   "cell_type": "markdown",
   "metadata": {},
   "source": [
    "#### Load Dataset"
   ]
  },
  {
   "cell_type": "code",
   "execution_count": 16,
   "metadata": {},
   "outputs": [
    {
     "name": "stdout",
     "output_type": "stream",
     "text": [
      "Unexpected exception formatting exception. Falling back to standard exception\n"
     ]
    },
    {
     "name": "stderr",
     "output_type": "stream",
     "text": [
      "Traceback (most recent call last):\n",
      "  File \"/home/ahmad/anaconda3/envs/deepcause/lib/python3.8/site-packages/IPython/core/interactiveshell.py\", line 3433, in run_code\n",
      "    exec(code_obj, self.user_global_ns, self.user_ns)\n",
      "  File \"/tmp/ipykernel_2087816/4082137524.py\", line 1, in <module>\n",
      "    df = datasets.load_river_network()\n",
      "  File \"/home/ahmad/Projects/deepCausality/src/dataloader.py\", line 66, in load_river_network\n",
      "    data = pd.read_csv(r\"../datasets/rivers_alpha/prototype_ts_ds.csv\", index_col=0)\n",
      "  File \"/home/ahmad/anaconda3/envs/deepcause/lib/python3.8/site-packages/pandas/io/parsers/readers.py\", line 899, in read_csv\n",
      "  File \"/home/ahmad/anaconda3/envs/deepcause/lib/python3.8/site-packages/pandas/io/parsers/readers.py\", line 2004, in _refine_defaults_read\n",
      "  File \"/home/ahmad/anaconda3/envs/deepcause/lib/python3.8/site-packages/pandas/util/_validators.py\", line 446, in check_dtype_backend\n",
      "NameError: name 'lib' is not defined\n",
      "\n",
      "During handling of the above exception, another exception occurred:\n",
      "\n",
      "Traceback (most recent call last):\n",
      "  File \"/home/ahmad/anaconda3/envs/deepcause/lib/python3.8/site-packages/IPython/core/interactiveshell.py\", line 2052, in showtraceback\n",
      "    stb = self.InteractiveTB.structured_traceback(\n",
      "  File \"/home/ahmad/anaconda3/envs/deepcause/lib/python3.8/site-packages/IPython/core/ultratb.py\", line 1118, in structured_traceback\n",
      "    return FormattedTB.structured_traceback(\n",
      "  File \"/home/ahmad/anaconda3/envs/deepcause/lib/python3.8/site-packages/IPython/core/ultratb.py\", line 1012, in structured_traceback\n",
      "    return VerboseTB.structured_traceback(\n",
      "  File \"/home/ahmad/anaconda3/envs/deepcause/lib/python3.8/site-packages/IPython/core/ultratb.py\", line 865, in structured_traceback\n",
      "    formatted_exception = self.format_exception_as_a_whole(etype, evalue, etb, number_of_lines_of_context,\n",
      "  File \"/home/ahmad/anaconda3/envs/deepcause/lib/python3.8/site-packages/IPython/core/ultratb.py\", line 818, in format_exception_as_a_whole\n",
      "    frames.append(self.format_record(r))\n",
      "  File \"/home/ahmad/anaconda3/envs/deepcause/lib/python3.8/site-packages/IPython/core/ultratb.py\", line 736, in format_record\n",
      "    result += ''.join(_format_traceback_lines(frame_info.lines, Colors, self.has_colors, lvals))\n",
      "  File \"/home/ahmad/anaconda3/envs/deepcause/lib/python3.8/site-packages/stack_data/utils.py\", line 145, in cached_property_wrapper\n",
      "    value = obj.__dict__[self.func.__name__] = self.func(obj)\n",
      "  File \"/home/ahmad/anaconda3/envs/deepcause/lib/python3.8/site-packages/stack_data/core.py\", line 698, in lines\n",
      "    pieces = self.included_pieces\n",
      "  File \"/home/ahmad/anaconda3/envs/deepcause/lib/python3.8/site-packages/stack_data/utils.py\", line 145, in cached_property_wrapper\n",
      "    value = obj.__dict__[self.func.__name__] = self.func(obj)\n",
      "  File \"/home/ahmad/anaconda3/envs/deepcause/lib/python3.8/site-packages/stack_data/core.py\", line 649, in included_pieces\n",
      "    pos = scope_pieces.index(self.executing_piece)\n",
      "  File \"/home/ahmad/anaconda3/envs/deepcause/lib/python3.8/site-packages/stack_data/utils.py\", line 145, in cached_property_wrapper\n",
      "    value = obj.__dict__[self.func.__name__] = self.func(obj)\n",
      "  File \"/home/ahmad/anaconda3/envs/deepcause/lib/python3.8/site-packages/stack_data/core.py\", line 628, in executing_piece\n",
      "    return only(\n",
      "  File \"/home/ahmad/anaconda3/envs/deepcause/lib/python3.8/site-packages/executing/executing.py\", line 164, in only\n",
      "    raise NotOneValueFound('Expected one value, found 0')\n",
      "executing.executing.NotOneValueFound: Expected one value, found 0\n"
     ]
    }
   ],
   "source": [
    "df = datasets.load_river_network()\n",
    "# df = df.iloc[:, 0:3]\n",
    "# df.plot(figsize=(9, 4), linewidth=0.66, use_index=True)\n",
    "# plt.show()\n",
    "# func.corr_heatmap(df)\n",
    "df.head()"
   ]
  },
  {
   "cell_type": "markdown",
   "metadata": {},
   "source": [
    "#### Generate Training Dataset"
   ]
  },
  {
   "cell_type": "code",
   "execution_count": 6,
   "metadata": {},
   "outputs": [],
   "source": [
    "original_data = []\n",
    "dim, columns = len(df.columns), df.columns\n",
    "for col in df:\n",
    "    original_data.append(df[col])\n",
    "\n",
    "original_data = np.array(original_data)\n",
    "# training set\n",
    "train_ds = ListDataset(\n",
    "    [\n",
    "        {'start': \"01/03/2015 00:00:00\",\n",
    "         'target': original_data[:, 0: training_length].tolist()\n",
    "         }\n",
    "    ],\n",
    "    freq=freq,\n",
    "    one_dim_target=False\n",
    ")"
   ]
  },
  {
   "cell_type": "markdown",
   "metadata": {},
   "source": [
    "#### Create DeepAR Estimator"
   ]
  },
  {
   "cell_type": "code",
   "execution_count": 7,
   "metadata": {},
   "outputs": [
    {
     "ename": "AttributeError",
     "evalue": "module 'pandas.tseries.offsets' has no attribute 'YearOffset'",
     "output_type": "error",
     "traceback": [
      "\u001b[0;31m---------------------------------------------------------------------------\u001b[0m",
      "\u001b[0;31mAttributeError\u001b[0m                            Traceback (most recent call last)",
      "Cell \u001b[0;32mIn[7], line 2\u001b[0m\n\u001b[1;32m      1\u001b[0m \u001b[38;5;66;03m# create estimator\u001b[39;00m\n\u001b[0;32m----> 2\u001b[0m estimator \u001b[38;5;241m=\u001b[39m \u001b[43mDeepAREstimator\u001b[49m\u001b[43m(\u001b[49m\n\u001b[1;32m      3\u001b[0m \u001b[43m    \u001b[49m\u001b[43mprediction_length\u001b[49m\u001b[38;5;241;43m=\u001b[39;49m\u001b[43mprediction_length\u001b[49m\u001b[43m,\u001b[49m\n\u001b[1;32m      4\u001b[0m \u001b[43m    \u001b[49m\u001b[43mcontext_length\u001b[49m\u001b[38;5;241;43m=\u001b[39;49m\u001b[43mprediction_length\u001b[49m\u001b[43m,\u001b[49m\n\u001b[1;32m      5\u001b[0m \u001b[43m    \u001b[49m\u001b[43mfreq\u001b[49m\u001b[38;5;241;43m=\u001b[39;49m\u001b[43mfreq\u001b[49m\u001b[43m,\u001b[49m\n\u001b[1;32m      6\u001b[0m \u001b[43m    \u001b[49m\u001b[43mnum_layers\u001b[49m\u001b[38;5;241;43m=\u001b[39;49m\u001b[43mnum_layers\u001b[49m\u001b[43m,\u001b[49m\n\u001b[1;32m      7\u001b[0m \u001b[43m    \u001b[49m\u001b[43mnum_cells\u001b[49m\u001b[38;5;241;43m=\u001b[39;49m\u001b[43mnum_cells\u001b[49m\u001b[43m,\u001b[49m\n\u001b[1;32m      8\u001b[0m \u001b[43m    \u001b[49m\u001b[43mdropout_rate\u001b[49m\u001b[38;5;241;43m=\u001b[39;49m\u001b[43mdropout_rate\u001b[49m\u001b[43m,\u001b[49m\n\u001b[1;32m      9\u001b[0m \u001b[43m    \u001b[49m\u001b[43mtrainer\u001b[49m\u001b[38;5;241;43m=\u001b[39;49m\u001b[43mTrainer\u001b[49m\u001b[43m(\u001b[49m\n\u001b[1;32m     10\u001b[0m \u001b[43m        \u001b[49m\u001b[43mctx\u001b[49m\u001b[38;5;241;43m=\u001b[39;49m\u001b[38;5;124;43m\"\u001b[39;49m\u001b[38;5;124;43mcpu\u001b[39;49m\u001b[38;5;124;43m\"\u001b[39;49m\u001b[43m,\u001b[49m\n\u001b[1;32m     11\u001b[0m \u001b[43m        \u001b[49m\u001b[43mepochs\u001b[49m\u001b[38;5;241;43m=\u001b[39;49m\u001b[43mepochs\u001b[49m\u001b[43m,\u001b[49m\n\u001b[1;32m     12\u001b[0m \u001b[43m        \u001b[49m\u001b[43mhybridize\u001b[49m\u001b[38;5;241;43m=\u001b[39;49m\u001b[38;5;28;43;01mFalse\u001b[39;49;00m\u001b[43m,\u001b[49m\n\u001b[1;32m     13\u001b[0m \u001b[43m        \u001b[49m\u001b[43mlearning_rate\u001b[49m\u001b[38;5;241;43m=\u001b[39;49m\u001b[38;5;241;43m1E-4\u001b[39;49m\u001b[43m,\u001b[49m\n\u001b[1;32m     14\u001b[0m \u001b[43m        \u001b[49m\u001b[43mbatch_size\u001b[49m\u001b[38;5;241;43m=\u001b[39;49m\u001b[38;5;241;43m32\u001b[39;49m\n\u001b[1;32m     15\u001b[0m \u001b[43m    \u001b[49m\u001b[43m)\u001b[49m\u001b[43m,\u001b[49m\n\u001b[1;32m     16\u001b[0m \u001b[43m    \u001b[49m\u001b[43mdistr_output\u001b[49m\u001b[38;5;241;43m=\u001b[39;49m\u001b[43mMultivariateGaussianOutput\u001b[49m\u001b[43m(\u001b[49m\u001b[43mdim\u001b[49m\u001b[38;5;241;43m=\u001b[39;49m\u001b[43mdim\u001b[49m\u001b[43m)\u001b[49m\n\u001b[1;32m     17\u001b[0m \u001b[43m)\u001b[49m\n",
      "File \u001b[0;32m~/anaconda3/envs/deepcause/lib/python3.8/site-packages/gluonts/core/component.py:437\u001b[0m, in \u001b[0;36mvalidated.<locals>.validator.<locals>.init_wrapper\u001b[0;34m(*args, **kwargs)\u001b[0m\n\u001b[1;32m    434\u001b[0m     \u001b[38;5;28mself\u001b[39m\u001b[38;5;241m.\u001b[39m\u001b[38;5;18m__class__\u001b[39m\u001b[38;5;241m.\u001b[39m__getnewargs_ex__ \u001b[38;5;241m=\u001b[39m validated_getnewargs_ex\n\u001b[1;32m    435\u001b[0m     \u001b[38;5;28mself\u001b[39m\u001b[38;5;241m.\u001b[39m\u001b[38;5;18m__class__\u001b[39m\u001b[38;5;241m.\u001b[39m\u001b[38;5;21m__repr__\u001b[39m \u001b[38;5;241m=\u001b[39m validated_repr\n\u001b[0;32m--> 437\u001b[0m \u001b[38;5;28;01mreturn\u001b[39;00m \u001b[43minit\u001b[49m\u001b[43m(\u001b[49m\u001b[38;5;28;43mself\u001b[39;49m\u001b[43m,\u001b[49m\u001b[43m \u001b[49m\u001b[38;5;241;43m*\u001b[39;49m\u001b[38;5;241;43m*\u001b[39;49m\u001b[43mall_args\u001b[49m\u001b[43m)\u001b[49m\n",
      "File \u001b[0;32m~/anaconda3/envs/deepcause/lib/python3.8/site-packages/gluonts/model/deepar/_estimator.py:193\u001b[0m, in \u001b[0;36mDeepAREstimator.__init__\u001b[0;34m(self, freq, prediction_length, trainer, context_length, num_layers, num_cells, cell_type, dropout_rate, use_feat_dynamic_real, use_feat_static_cat, use_feat_static_real, cardinality, embedding_dimension, distr_output, scaling, lags_seq, time_features, num_parallel_samples, dtype)\u001b[0m\n\u001b[1;32m    184\u001b[0m \u001b[38;5;28mself\u001b[39m\u001b[38;5;241m.\u001b[39mscaling \u001b[38;5;241m=\u001b[39m scaling\n\u001b[1;32m    185\u001b[0m \u001b[38;5;28mself\u001b[39m\u001b[38;5;241m.\u001b[39mlags_seq \u001b[38;5;241m=\u001b[39m (\n\u001b[1;32m    186\u001b[0m     lags_seq\n\u001b[1;32m    187\u001b[0m     \u001b[38;5;28;01mif\u001b[39;00m lags_seq \u001b[38;5;129;01mis\u001b[39;00m \u001b[38;5;129;01mnot\u001b[39;00m \u001b[38;5;28;01mNone\u001b[39;00m\n\u001b[1;32m    188\u001b[0m     \u001b[38;5;28;01melse\u001b[39;00m get_lags_for_frequency(freq_str\u001b[38;5;241m=\u001b[39mfreq)\n\u001b[1;32m    189\u001b[0m )\n\u001b[1;32m    190\u001b[0m \u001b[38;5;28mself\u001b[39m\u001b[38;5;241m.\u001b[39mtime_features \u001b[38;5;241m=\u001b[39m (\n\u001b[1;32m    191\u001b[0m     time_features\n\u001b[1;32m    192\u001b[0m     \u001b[38;5;28;01mif\u001b[39;00m time_features \u001b[38;5;129;01mis\u001b[39;00m \u001b[38;5;129;01mnot\u001b[39;00m \u001b[38;5;28;01mNone\u001b[39;00m\n\u001b[0;32m--> 193\u001b[0m     \u001b[38;5;28;01melse\u001b[39;00m \u001b[43mtime_features_from_frequency_str\u001b[49m\u001b[43m(\u001b[49m\u001b[38;5;28;43mself\u001b[39;49m\u001b[38;5;241;43m.\u001b[39;49m\u001b[43mfreq\u001b[49m\u001b[43m)\u001b[49m\n\u001b[1;32m    194\u001b[0m )\n\u001b[1;32m    196\u001b[0m \u001b[38;5;28mself\u001b[39m\u001b[38;5;241m.\u001b[39mhistory_length \u001b[38;5;241m=\u001b[39m \u001b[38;5;28mself\u001b[39m\u001b[38;5;241m.\u001b[39mcontext_length \u001b[38;5;241m+\u001b[39m \u001b[38;5;28mmax\u001b[39m(\u001b[38;5;28mself\u001b[39m\u001b[38;5;241m.\u001b[39mlags_seq)\n\u001b[1;32m    198\u001b[0m \u001b[38;5;28mself\u001b[39m\u001b[38;5;241m.\u001b[39mnum_parallel_samples \u001b[38;5;241m=\u001b[39m num_parallel_samples\n",
      "File \u001b[0;32m~/anaconda3/envs/deepcause/lib/python3.8/site-packages/gluonts/time_feature/_base.py:139\u001b[0m, in \u001b[0;36mtime_features_from_frequency_str\u001b[0;34m(freq_str)\u001b[0m\n\u001b[1;32m    126\u001b[0m \u001b[38;5;28;01mdef\u001b[39;00m \u001b[38;5;21mtime_features_from_frequency_str\u001b[39m(freq_str: \u001b[38;5;28mstr\u001b[39m) \u001b[38;5;241m-\u001b[39m\u001b[38;5;241m>\u001b[39m List[TimeFeature]:\n\u001b[1;32m    127\u001b[0m     \u001b[38;5;124;03m\"\"\"\u001b[39;00m\n\u001b[1;32m    128\u001b[0m \u001b[38;5;124;03m    Returns a list of time features that will be appropriate for the given frequency string.\u001b[39;00m\n\u001b[1;32m    129\u001b[0m \n\u001b[0;32m   (...)\u001b[0m\n\u001b[1;32m    135\u001b[0m \n\u001b[1;32m    136\u001b[0m \u001b[38;5;124;03m    \"\"\"\u001b[39;00m\n\u001b[1;32m    138\u001b[0m     features_by_offsets \u001b[38;5;241m=\u001b[39m {\n\u001b[0;32m--> 139\u001b[0m         \u001b[43moffsets\u001b[49m\u001b[38;5;241;43m.\u001b[39;49m\u001b[43mYearOffset\u001b[49m: [],\n\u001b[1;32m    140\u001b[0m         offsets\u001b[38;5;241m.\u001b[39mMonthOffset: [MonthOfYear],\n\u001b[1;32m    141\u001b[0m         offsets\u001b[38;5;241m.\u001b[39mWeek: [DayOfMonth, WeekOfYear],\n\u001b[1;32m    142\u001b[0m         offsets\u001b[38;5;241m.\u001b[39mDay: [DayOfWeek, DayOfMonth, DayOfYear],\n\u001b[1;32m    143\u001b[0m         offsets\u001b[38;5;241m.\u001b[39mBusinessDay: [DayOfWeek, DayOfMonth, DayOfYear],\n\u001b[1;32m    144\u001b[0m         offsets\u001b[38;5;241m.\u001b[39mHour: [HourOfDay, DayOfWeek, DayOfMonth, DayOfYear],\n\u001b[1;32m    145\u001b[0m         offsets\u001b[38;5;241m.\u001b[39mMinute: [\n\u001b[1;32m    146\u001b[0m             MinuteOfHour,\n\u001b[1;32m    147\u001b[0m             HourOfDay,\n\u001b[1;32m    148\u001b[0m             DayOfWeek,\n\u001b[1;32m    149\u001b[0m             DayOfMonth,\n\u001b[1;32m    150\u001b[0m             DayOfYear,\n\u001b[1;32m    151\u001b[0m         ],\n\u001b[1;32m    152\u001b[0m     }\n\u001b[1;32m    154\u001b[0m     offset \u001b[38;5;241m=\u001b[39m to_offset(freq_str)\n\u001b[1;32m    156\u001b[0m     \u001b[38;5;28;01mfor\u001b[39;00m offset_type, feature_classes \u001b[38;5;129;01min\u001b[39;00m features_by_offsets\u001b[38;5;241m.\u001b[39mitems():\n",
      "\u001b[0;31mAttributeError\u001b[0m: module 'pandas.tseries.offsets' has no attribute 'YearOffset'"
     ]
    }
   ],
   "source": [
    "# create estimator\n",
    "estimator = DeepAREstimator(\n",
    "    prediction_length=prediction_length,\n",
    "    context_length=prediction_length,\n",
    "    freq=freq,\n",
    "    num_layers=num_layers,\n",
    "    num_cells=num_cells,\n",
    "    dropout_rate=dropout_rate,\n",
    "    trainer=Trainer(\n",
    "        ctx=\"cpu\",\n",
    "        epochs=epochs,\n",
    "        hybridize=False,\n",
    "        learning_rate=1E-4,\n",
    "        batch_size=32\n",
    "    ),\n",
    "    distr_output=MultivariateGaussianOutput(dim=dim)\n",
    ")"
   ]
  },
  {
   "cell_type": "markdown",
   "metadata": {},
   "source": [
    "### Load/Train Model"
   ]
  },
  {
   "cell_type": "code",
   "execution_count": 49,
   "metadata": {},
   "outputs": [
    {
     "name": "stdout",
     "output_type": "stream",
     "text": [
      "Model: /home/ahmad/Projects/deepCausality/models/trained_model_geotest.sav2\n"
     ]
    }
   ],
   "source": [
    "path = pars.get('model_path')\n",
    "model_path = pathlib.Path(path + model_name)\n",
    "# model_path = \"../models/trained_model_georegime_cli9.sav\"\n",
    "# model_path = \"../models/trained_model_syn22Sep.sav\"\n",
    "# model_path = \"../models/trained_model_river16Jun.sav\"\n",
    "\n",
    "filename = pathlib.Path(model_path)\n",
    "print(f'Model: {filename}')\n",
    "if not filename.exists():\n",
    "    print(\"Training forecasting model....\")\n",
    "    predictor = estimator.train(train_ds)\n",
    "    # save the model to disk\n",
    "    pickle.dump(predictor, open(filename, 'wb'))"
   ]
  },
  {
   "cell_type": "markdown",
   "metadata": {},
   "source": [
    "#### Generate Knockoffs"
   ]
  },
  {
   "cell_type": "code",
   "execution_count": 50,
   "metadata": {},
   "outputs": [],
   "source": [
    "data_actual = np.array(original_data[:, :]).transpose()\n",
    "n = len(original_data[:, 0])\n",
    "obj = Knockoffs()\n",
    "params = {\"length\": n, \"dim\": dim, \"col\": columns}\n",
    "knockoffs = obj.GenKnockoffs(data_actual, params)"
   ]
  },
  {
   "cell_type": "markdown",
   "metadata": {},
   "source": [
    "#### Esimate Causal Links"
   ]
  },
  {
   "cell_type": "code",
   "execution_count": 51,
   "metadata": {},
   "outputs": [
    {
     "name": "stdout",
     "output_type": "stream",
     "text": [
      "-------------*****-----------------------*****-------------\n",
      "Causal Link: T --------------> T\n",
      "-------------*****-----------------------*****-------------\n",
      "Intervention: In-dist\n",
      "Test statistic: 0.4, p-value: 0.42, KLD: -0.06\n",
      "\u001b[94mFail to reject null hypothesis\u001b[0m\n",
      "Intervention: Out-dist\n",
      "Test statistic: 1.0, p-value: 0.0, KLD: -4.31\n",
      "\u001b[92mNull hypothesis is rejected\u001b[0m\n",
      "Intervention: Mean\n",
      "Test statistic: 0.6, p-value: 0.05, KLD: -0.22\n",
      "\u001b[94mFail to reject null hypothesis\u001b[0m\n",
      "Intervention: Uniform\n",
      "Test statistic: 1.0, p-value: 0.0, KLD: -1.49\n",
      "\u001b[92mNull hypothesis is rejected\u001b[0m\n",
      "-------------*****-----------------------*****-------------\n",
      "Causal Link: T --------------> P\n",
      "-------------*****-----------------------*****-------------\n",
      "Intervention: In-dist\n",
      "Test statistic: 0.5, p-value: 0.17, KLD: 0.34\n",
      "\u001b[94mFail to reject null hypothesis\u001b[0m\n",
      "Intervention: Out-dist\n",
      "Test statistic: 0.9, p-value: 0.0, KLD: -0.81\n",
      "\u001b[92mNull hypothesis is rejected\u001b[0m\n",
      "Intervention: Mean\n",
      "Test statistic: 0.4, p-value: 0.42, KLD: 0.27\n",
      "\u001b[94mFail to reject null hypothesis\u001b[0m\n",
      "Intervention: Uniform\n",
      "Test statistic: 0.8, p-value: 0.0, KLD: -0.74\n",
      "\u001b[92mNull hypothesis is rejected\u001b[0m\n",
      "-------------*****-----------------------*****-------------\n",
      "Causal Link: T --------------> GW$_{mb}$\n",
      "-------------*****-----------------------*****-------------\n",
      "Intervention: In-dist\n",
      "Test statistic: 0.3, p-value: 0.79, KLD: 0.18\n",
      "\u001b[94mFail to reject null hypothesis\u001b[0m\n",
      "Intervention: Out-dist\n",
      "Test statistic: 0.2, p-value: 0.99, KLD: -0.38\n",
      "\u001b[94mFail to reject null hypothesis\u001b[0m\n",
      "Intervention: Mean\n",
      "Test statistic: 0.3, p-value: 0.79, KLD: -0.5\n",
      "\u001b[94mFail to reject null hypothesis\u001b[0m\n",
      "Intervention: Uniform\n",
      "Test statistic: 1.0, p-value: 0.0, KLD: 6.45\n",
      "\u001b[92mNull hypothesis is rejected\u001b[0m\n",
      "-------------*****-----------------------*****-------------\n",
      "Causal Link: T --------------> Strain$_{ns}$\n",
      "-------------*****-----------------------*****-------------\n",
      "Intervention: In-dist\n",
      "Test statistic: 0.2, p-value: 0.99, KLD: 0.04\n",
      "\u001b[94mFail to reject null hypothesis\u001b[0m\n",
      "Intervention: Out-dist\n",
      "Test statistic: 1.0, p-value: 0.0, KLD: -0.75\n",
      "\u001b[92mNull hypothesis is rejected\u001b[0m\n",
      "Intervention: Mean\n",
      "Test statistic: 0.4, p-value: 0.42, KLD: 0.15\n",
      "\u001b[94mFail to reject null hypothesis\u001b[0m\n",
      "Intervention: Uniform\n",
      "Test statistic: 0.9, p-value: 0.0, KLD: -0.57\n",
      "\u001b[92mNull hypothesis is rejected\u001b[0m\n",
      "-------------*****-----------------------*****-------------\n",
      "Causal Link: P --------------> T\n",
      "-------------*****-----------------------*****-------------\n",
      "Intervention: In-dist\n",
      "Test statistic: 0.5, p-value: 0.17, KLD: -0.17\n",
      "\u001b[94mFail to reject null hypothesis\u001b[0m\n",
      "Intervention: Out-dist\n",
      "Test statistic: 0.9, p-value: 0.0, KLD: -0.73\n",
      "\u001b[92mNull hypothesis is rejected\u001b[0m\n",
      "Intervention: Mean\n",
      "Test statistic: 0.9, p-value: 0.0, KLD: -0.22\n",
      "\u001b[92mNull hypothesis is rejected\u001b[0m\n",
      "Intervention: Uniform\n",
      "Test statistic: 0.9, p-value: 0.0, KLD: -0.7\n",
      "\u001b[92mNull hypothesis is rejected\u001b[0m\n",
      "-------------*****-----------------------*****-------------\n",
      "Causal Link: P --------------> P\n",
      "-------------*****-----------------------*****-------------\n",
      "Intervention: In-dist\n",
      "Test statistic: 0.3, p-value: 0.79, KLD: -0.02\n",
      "\u001b[94mFail to reject null hypothesis\u001b[0m\n",
      "Intervention: Out-dist\n",
      "Test statistic: 1.0, p-value: 0.0, KLD: -5.88\n",
      "\u001b[92mNull hypothesis is rejected\u001b[0m\n",
      "Intervention: Mean\n",
      "Test statistic: 0.3, p-value: 0.79, KLD: 0.11\n",
      "\u001b[94mFail to reject null hypothesis\u001b[0m\n",
      "Intervention: Uniform\n",
      "Test statistic: 1.0, p-value: 0.0, KLD: -1.52\n",
      "\u001b[92mNull hypothesis is rejected\u001b[0m\n",
      "-------------*****-----------------------*****-------------\n",
      "Causal Link: P --------------> GW$_{mb}$\n",
      "-------------*****-----------------------*****-------------\n",
      "Intervention: In-dist\n",
      "Test statistic: 0.4, p-value: 0.42, KLD: 0.43\n",
      "\u001b[94mFail to reject null hypothesis\u001b[0m\n",
      "Intervention: Out-dist\n",
      "Test statistic: 0.7, p-value: 0.01, KLD: 1.82\n",
      "\u001b[92mNull hypothesis is rejected\u001b[0m\n",
      "Intervention: Mean\n",
      "Test statistic: 0.4, p-value: 0.42, KLD: 0.67\n",
      "\u001b[94mFail to reject null hypothesis\u001b[0m\n",
      "Intervention: Uniform\n",
      "Test statistic: 0.2, p-value: 0.99, KLD: 0.12\n",
      "\u001b[94mFail to reject null hypothesis\u001b[0m\n",
      "-------------*****-----------------------*****-------------\n",
      "Causal Link: P --------------> Strain$_{ns}$\n",
      "-------------*****-----------------------*****-------------\n",
      "Intervention: In-dist\n",
      "Test statistic: 0.5, p-value: 0.17, KLD: -0.13\n",
      "\u001b[94mFail to reject null hypothesis\u001b[0m\n",
      "Intervention: Out-dist\n",
      "Test statistic: 0.9, p-value: 0.0, KLD: -0.39\n",
      "\u001b[92mNull hypothesis is rejected\u001b[0m\n",
      "Intervention: Mean\n",
      "Test statistic: 0.5, p-value: 0.17, KLD: 0.17\n",
      "\u001b[94mFail to reject null hypothesis\u001b[0m\n",
      "Intervention: Uniform\n",
      "Test statistic: 0.7, p-value: 0.01, KLD: -0.42\n",
      "\u001b[92mNull hypothesis is rejected\u001b[0m\n",
      "-------------*****-----------------------*****-------------\n",
      "Causal Link: GW$_{mb}$ --------------> T\n",
      "-------------*****-----------------------*****-------------\n",
      "Intervention: In-dist\n",
      "Test statistic: 0.5, p-value: 0.17, KLD: -0.22\n",
      "\u001b[94mFail to reject null hypothesis\u001b[0m\n",
      "Intervention: Out-dist\n",
      "Test statistic: 1.0, p-value: 0.0, KLD: -0.74\n",
      "\u001b[92mNull hypothesis is rejected\u001b[0m\n",
      "Intervention: Mean\n",
      "Test statistic: 0.7, p-value: 0.01, KLD: -0.22\n",
      "\u001b[92mNull hypothesis is rejected\u001b[0m\n",
      "Intervention: Uniform\n",
      "Test statistic: 1.0, p-value: 0.0, KLD: -1.67\n",
      "\u001b[92mNull hypothesis is rejected\u001b[0m\n",
      "-------------*****-----------------------*****-------------\n",
      "Causal Link: GW$_{mb}$ --------------> P\n",
      "-------------*****-----------------------*****-------------\n",
      "Intervention: In-dist\n",
      "Test statistic: 0.4, p-value: 0.42, KLD: -0.12\n",
      "\u001b[94mFail to reject null hypothesis\u001b[0m\n",
      "Intervention: Out-dist\n",
      "Test statistic: 0.6, p-value: 0.05, KLD: -0.41\n",
      "\u001b[94mFail to reject null hypothesis\u001b[0m\n",
      "Intervention: Mean\n",
      "Test statistic: 0.3, p-value: 0.79, KLD: 0.0\n",
      "\u001b[94mFail to reject null hypothesis\u001b[0m\n",
      "Intervention: Uniform\n",
      "Test statistic: 0.5, p-value: 0.17, KLD: -0.28\n",
      "\u001b[94mFail to reject null hypothesis\u001b[0m\n",
      "-------------*****-----------------------*****-------------\n",
      "Causal Link: GW$_{mb}$ --------------> GW$_{mb}$\n",
      "-------------*****-----------------------*****-------------\n",
      "Intervention: In-dist\n",
      "Test statistic: 0.8, p-value: 0.0, KLD: 4.24\n",
      "\u001b[92mNull hypothesis is rejected\u001b[0m\n",
      "Intervention: Out-dist\n",
      "Test statistic: 1.0, p-value: 0.0, KLD: -24.87\n",
      "\u001b[92mNull hypothesis is rejected\u001b[0m\n",
      "Intervention: Mean\n",
      "Test statistic: 0.7, p-value: 0.01, KLD: 1.63\n",
      "\u001b[92mNull hypothesis is rejected\u001b[0m\n",
      "Intervention: Uniform\n",
      "Test statistic: 0.8, p-value: 0.0, KLD: 2.38\n",
      "\u001b[92mNull hypothesis is rejected\u001b[0m\n",
      "-------------*****-----------------------*****-------------\n",
      "Causal Link: GW$_{mb}$ --------------> Strain$_{ns}$\n",
      "-------------*****-----------------------*****-------------\n",
      "Intervention: In-dist\n",
      "Test statistic: 0.2, p-value: 0.99, KLD: 0.09\n",
      "\u001b[94mFail to reject null hypothesis\u001b[0m\n",
      "Intervention: Out-dist\n",
      "Test statistic: 1.0, p-value: 0.0, KLD: -0.75\n",
      "\u001b[92mNull hypothesis is rejected\u001b[0m\n",
      "Intervention: Mean\n",
      "Test statistic: 0.5, p-value: 0.17, KLD: 0.17\n",
      "\u001b[94mFail to reject null hypothesis\u001b[0m\n",
      "Intervention: Uniform\n",
      "Test statistic: 1.0, p-value: 0.0, KLD: -0.79\n",
      "\u001b[92mNull hypothesis is rejected\u001b[0m\n",
      "-------------*****-----------------------*****-------------\n",
      "Causal Link: Strain$_{ns}$ --------------> T\n",
      "-------------*****-----------------------*****-------------\n",
      "Intervention: In-dist\n",
      "Test statistic: 0.7, p-value: 0.01, KLD: -0.4\n",
      "\u001b[92mNull hypothesis is rejected\u001b[0m\n",
      "Intervention: Out-dist\n",
      "Test statistic: 0.8, p-value: 0.0, KLD: -0.26\n",
      "\u001b[92mNull hypothesis is rejected\u001b[0m\n",
      "Intervention: Mean\n",
      "Test statistic: 0.9, p-value: 0.0, KLD: -0.46\n",
      "\u001b[92mNull hypothesis is rejected\u001b[0m\n",
      "Intervention: Uniform\n",
      "Test statistic: 1.0, p-value: 0.0, KLD: -0.51\n",
      "\u001b[92mNull hypothesis is rejected\u001b[0m\n",
      "-------------*****-----------------------*****-------------\n",
      "Causal Link: Strain$_{ns}$ --------------> P\n",
      "-------------*****-----------------------*****-------------\n",
      "Intervention: In-dist\n",
      "Test statistic: 0.3, p-value: 0.79, KLD: 0.13\n",
      "\u001b[94mFail to reject null hypothesis\u001b[0m\n",
      "Intervention: Out-dist\n",
      "Test statistic: 0.4, p-value: 0.42, KLD: 0.01\n",
      "\u001b[94mFail to reject null hypothesis\u001b[0m\n",
      "Intervention: Mean\n",
      "Test statistic: 0.3, p-value: 0.79, KLD: 0.13\n",
      "\u001b[94mFail to reject null hypothesis\u001b[0m\n",
      "Intervention: Uniform\n",
      "Test statistic: 0.6, p-value: 0.05, KLD: -0.33\n",
      "\u001b[94mFail to reject null hypothesis\u001b[0m\n",
      "-------------*****-----------------------*****-------------\n",
      "Causal Link: Strain$_{ns}$ --------------> GW$_{mb}$\n",
      "-------------*****-----------------------*****-------------\n",
      "Intervention: In-dist\n",
      "Test statistic: 0.5, p-value: 0.17, KLD: -0.67\n",
      "\u001b[94mFail to reject null hypothesis\u001b[0m\n",
      "Intervention: Out-dist\n",
      "Test statistic: 0.7, p-value: 0.01, KLD: -1.33\n",
      "\u001b[92mNull hypothesis is rejected\u001b[0m\n",
      "Intervention: Mean\n",
      "Test statistic: 0.4, p-value: 0.42, KLD: -0.84\n",
      "\u001b[94mFail to reject null hypothesis\u001b[0m\n",
      "Intervention: Uniform\n",
      "Test statistic: 0.8, p-value: 0.0, KLD: 3.11\n",
      "\u001b[92mNull hypothesis is rejected\u001b[0m\n",
      "-------------*****-----------------------*****-------------\n",
      "Causal Link: Strain$_{ns}$ --------------> Strain$_{ns}$\n",
      "-------------*****-----------------------*****-------------\n",
      "Intervention: In-dist\n",
      "Test statistic: 1.0, p-value: 0.0, KLD: -0.81\n",
      "\u001b[92mNull hypothesis is rejected\u001b[0m\n",
      "Intervention: Out-dist\n",
      "Test statistic: 1.0, p-value: 0.0, KLD: -3.28\n",
      "\u001b[92mNull hypothesis is rejected\u001b[0m\n",
      "Intervention: Mean\n",
      "Test statistic: 1.0, p-value: 0.0, KLD: -0.87\n",
      "\u001b[92mNull hypothesis is rejected\u001b[0m\n",
      "Intervention: Uniform\n",
      "Test statistic: 1.0, p-value: 0.0, KLD: -1.29\n",
      "\u001b[92mNull hypothesis is rejected\u001b[0m\n",
      "-------------*****-----------------------*****-------------\n",
      "Discovered Causal Structure:\n",
      " [[1 0 0 0]\n",
      " [0 1 0 0]\n",
      " [0 0 1 0]\n",
      " [1 0 0 1]]\n"
     ]
    }
   ],
   "source": [
    "# Function for estimating causal impact among variables\n",
    "causal_matrix, predicted_graph, end_time = deepCause(original_data, knockoffs, model_path, params)"
   ]
  },
  {
   "cell_type": "markdown",
   "metadata": {},
   "source": [
    "#### Generate Causal Graph"
   ]
  },
  {
   "cell_type": "code",
   "execution_count": 55,
   "metadata": {},
   "outputs": [
    {
     "data": {
      "image/png": "[encoded data removed]",
      "text/plain": [
       "<Figure size 1400x1400 with 1 Axes>"
      ]
     },
     "metadata": {},
     "output_type": "display_data"
    }
   ],
   "source": [
    "func.plot_causal_graph(causal_matrix, columns, model_name)"
   ]
  },
  {
   "cell_type": "markdown",
   "metadata": {},
   "source": [
    "#### Evaluate CDMI Performance"
   ]
  },
  {
   "cell_type": "code",
   "execution_count": 54,
   "metadata": {},
   "outputs": [],
   "source": [
    "intervention_methods = ['In-dist', 'Out-dist', 'Mean', 'Uniform']\n",
    "actual_graph = pars.get(\"true_graph\")\n",
    "# func.evaluate(actual_graph, predicted_graph, intervention_methods)"
   ]
  },
  {
   "cell_type": "markdown",
   "metadata": {},
   "source": [
    "#### Computation Time"
   ]
  },
  {
   "cell_type": "code",
   "execution_count": null,
   "metadata": {},
   "outputs": [
    {
     "name": "stdout",
     "output_type": "stream",
     "text": [
      "Computation time: 10 mins\n"
     ]
    }
   ],
   "source": [
    "# Calculate difference\n",
    "elapsed_time = end_time - start_time\n",
    "# Print elapsed time\n",
    "print(\"Computation time:\", round(elapsed_time/60), \"mins\")"
   ]
  }
 ],
 "metadata": {
  "kernelspec": {
   "display_name": "Python 3",
   "language": "python",
   "name": "python3"
  },
  "language_info": {
   "codemirror_mode": {
    "name": "ipython",
    "version": 3
   },
   "file_extension": ".py",
   "mimetype": "text/x-python",
   "name": "python",
   "nbconvert_exporter": "python",
   "pygments_lexer": "ipython3",
   "version": "3.8.15"
  }
 },
 "nbformat": 4,
 "nbformat_minor": 2
}
