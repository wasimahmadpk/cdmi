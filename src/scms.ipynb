{
 "cells": [
  {
   "attachments": {},
   "cell_type": "markdown",
   "metadata": {},
   "source": [
    "Causal inference in multivariate time series"
   ]
  },
  {
   "cell_type": "code",
   "execution_count": 17,
   "id": "05a645fc",
   "metadata": {},
   "outputs": [
    {
     "name": "stdout",
     "output_type": "stream",
     "text": [
      "The autoreload extension is already loaded. To reload it, use:\n",
      "  %reload_ext autoreload\n"
     ]
    }
   ],
   "source": [
    "%load_ext autoreload\n",
    "%autoreload 2"
   ]
  },
  {
   "cell_type": "code",
   "execution_count": 18,
   "id": "219a99e8",
   "metadata": {},
   "outputs": [],
   "source": [
    "import random\n",
    "import pathlib\n",
    "import datetime\n",
    "import numpy as np\n",
    "import pandas as pd\n",
    "import matplotlib.pyplot as plt\n",
    "from sklearn.linear_model import Lasso\n",
    "from scms import StructuralCausalModels\n",
    "from renyiDAG import generate_dag_and_time_series\n",
    "\n",
    "np.random.seed(1)"
   ]
  },
  {
   "cell_type": "code",
   "execution_count": 19,
   "id": "714b4a46",
   "metadata": {},
   "outputs": [
    {
     "ename": "TypeError",
     "evalue": "generate_dag_and_time_series() missing 1 required positional argument: 's'",
     "output_type": "error",
     "traceback": [
      "\u001b[0;31m---------------------------------------------------------------------------\u001b[0m",
      "\u001b[0;31mTypeError\u001b[0m                                 Traceback (most recent call last)",
      "Cell \u001b[0;32mIn[19], line 9\u001b[0m\n\u001b[1;32m      6\u001b[0m lag \u001b[38;5;241m=\u001b[39m \u001b[38;5;241m5\u001b[39m                \u001b[38;5;66;03m# Lag for causal effects\u001b[39;00m\n\u001b[1;32m      8\u001b[0m \u001b[38;5;66;03m# Generate Data\u001b[39;00m\n\u001b[0;32m----> 9\u001b[0m df, causal_matrix \u001b[38;5;241m=\u001b[39m \u001b[43mgenerate_dag_and_time_series\u001b[49m\u001b[43m(\u001b[49m\u001b[43mn_nodes\u001b[49m\u001b[43m,\u001b[49m\u001b[43m \u001b[49m\u001b[43medge_prob\u001b[49m\u001b[43m,\u001b[49m\u001b[43m \u001b[49m\u001b[43mnonlinear_prob\u001b[49m\u001b[43m,\u001b[49m\n\u001b[1;32m     10\u001b[0m \u001b[43m                                                     \u001b[49m\u001b[43mtimesteps\u001b[49m\u001b[43m,\u001b[49m\u001b[43m \u001b[49m\u001b[43mlag\u001b[49m\u001b[43m)\u001b[49m\n\u001b[1;32m     12\u001b[0m \u001b[38;5;28mprint\u001b[39m(\u001b[38;5;124m\"\u001b[39m\u001b[38;5;124mGenerated Causal Matrix:\u001b[39m\u001b[38;5;124m\"\u001b[39m)\n\u001b[1;32m     13\u001b[0m \u001b[38;5;28mprint\u001b[39m(causal_matrix)\n",
      "\u001b[0;31mTypeError\u001b[0m: generate_dag_and_time_series() missing 1 required positional argument: 's'"
     ]
    }
   ],
   "source": [
    "# Example Configuration:\n",
    "n_nodes = 10           # Total variables (10 variables)\n",
    "edge_prob = 0.25       # Probability of edge creation\n",
    "nonlinear_prob = 0.5   # Chance of nonlinearity per edge\n",
    "timesteps = 200        # Number of time steps\n",
    "lag = 5                # Lag for causal effects\n",
    "\n",
    "# Generate Data\n",
    "df, causal_matrix = generate_dag_and_time_series(n_nodes, edge_prob, nonlinear_prob,\n",
    "                                                     timesteps, lag)\n",
    "\n",
    "print(\"Generated Causal Matrix:\")\n",
    "print(causal_matrix)\n",
    "print(\"\\nGenerated Time Series Data (first few rows):\")\n",
    "print(df.head())"
   ]
  },
  {
   "cell_type": "code",
   "execution_count": 10,
   "id": "b9f16a08",
   "metadata": {},
   "outputs": [],
   "source": [
    "# Modify the code for complete experiments\n",
    "plot_path = r\"../plots/\"\n",
    "edge_densities = np.arange(0.2, 0.3, 0.1)\n",
    "etests = len(edge_densities)\n",
    "group_sizes = np.arange(3, 8, 2)\n",
    "# group_sizes = np.array([6])\n",
    "gtests = len(group_sizes)\n",
    "res_all = []\n",
    "\n",
    "for g in range(etests):\n",
    "\n",
    "    edge_density = edge_densities[g]\n",
    "    res = np.zeros((3, 3))\n",
    "\n",
    "    for t in range(gtests):\n",
    "\n",
    "        nodes = group_sizes[t]\n",
    "        params = {'g_one_start': 0,\n",
    "                  'g_one_end': int(nodes/2),\n",
    "                  'g_two_start': int(nodes/2),\n",
    "                  'g_two_end': nodes\n",
    "                 }\n",
    "\n",
    "        dag = StructuralCausalModels(nodes, edge_density)\n",
    "        df = dag.df\n",
    "\n"
   ]
  },
  {
   "cell_type": "code",
   "execution_count": 11,
   "id": "e9c2d18c",
   "metadata": {},
   "outputs": [
    {
     "data": {
      "text/html": [
       "<div>\n",
       "<style scoped>\n",
       "    .dataframe tbody tr th:only-of-type {\n",
       "        vertical-align: middle;\n",
       "    }\n",
       "\n",
       "    .dataframe tbody tr th {\n",
       "        vertical-align: top;\n",
       "    }\n",
       "\n",
       "    .dataframe thead th {\n",
       "        text-align: right;\n",
       "    }\n",
       "</style>\n",
       "<table border=\"1\" class=\"dataframe\">\n",
       "  <thead>\n",
       "    <tr style=\"text-align: right;\">\n",
       "      <th></th>\n",
       "      <th>Z1</th>\n",
       "      <th>Z2</th>\n",
       "      <th>Z3</th>\n",
       "      <th>Z4</th>\n",
       "      <th>Z5</th>\n",
       "      <th>Z6</th>\n",
       "      <th>Z7</th>\n",
       "    </tr>\n",
       "  </thead>\n",
       "  <tbody>\n",
       "    <tr>\n",
       "      <th>0</th>\n",
       "      <td>0.453348</td>\n",
       "      <td>0.436025</td>\n",
       "      <td>-0.763606</td>\n",
       "      <td>-0.028544</td>\n",
       "      <td>1.720200</td>\n",
       "      <td>-0.650067</td>\n",
       "      <td>-1.308243</td>\n",
       "    </tr>\n",
       "    <tr>\n",
       "      <th>1</th>\n",
       "      <td>2.176822</td>\n",
       "      <td>1.772313</td>\n",
       "      <td>0.949379</td>\n",
       "      <td>2.944266</td>\n",
       "      <td>1.242207</td>\n",
       "      <td>1.162728</td>\n",
       "      <td>-0.195960</td>\n",
       "    </tr>\n",
       "    <tr>\n",
       "      <th>2</th>\n",
       "      <td>1.553103</td>\n",
       "      <td>2.194483</td>\n",
       "      <td>1.326759</td>\n",
       "      <td>1.344620</td>\n",
       "      <td>3.368614</td>\n",
       "      <td>5.445869</td>\n",
       "      <td>-2.321817</td>\n",
       "    </tr>\n",
       "    <tr>\n",
       "      <th>3</th>\n",
       "      <td>1.603594</td>\n",
       "      <td>1.475123</td>\n",
       "      <td>1.187626</td>\n",
       "      <td>0.840459</td>\n",
       "      <td>3.172912</td>\n",
       "      <td>-0.810862</td>\n",
       "      <td>1.910857</td>\n",
       "    </tr>\n",
       "    <tr>\n",
       "      <th>4</th>\n",
       "      <td>1.044651</td>\n",
       "      <td>0.492315</td>\n",
       "      <td>2.640046</td>\n",
       "      <td>1.388251</td>\n",
       "      <td>-0.162322</td>\n",
       "      <td>1.222865</td>\n",
       "      <td>2.770226</td>\n",
       "    </tr>\n",
       "    <tr>\n",
       "      <th>...</th>\n",
       "      <td>...</td>\n",
       "      <td>...</td>\n",
       "      <td>...</td>\n",
       "      <td>...</td>\n",
       "      <td>...</td>\n",
       "      <td>...</td>\n",
       "      <td>...</td>\n",
       "    </tr>\n",
       "    <tr>\n",
       "      <th>1995</th>\n",
       "      <td>1.690050</td>\n",
       "      <td>2.121014</td>\n",
       "      <td>0.247932</td>\n",
       "      <td>-0.767562</td>\n",
       "      <td>2.701290</td>\n",
       "      <td>0.040617</td>\n",
       "      <td>1.007946</td>\n",
       "    </tr>\n",
       "    <tr>\n",
       "      <th>1996</th>\n",
       "      <td>1.882140</td>\n",
       "      <td>2.555930</td>\n",
       "      <td>2.903855</td>\n",
       "      <td>1.875142</td>\n",
       "      <td>-1.138655</td>\n",
       "      <td>4.058159</td>\n",
       "      <td>-0.580152</td>\n",
       "    </tr>\n",
       "    <tr>\n",
       "      <th>1997</th>\n",
       "      <td>1.086196</td>\n",
       "      <td>2.093573</td>\n",
       "      <td>1.078129</td>\n",
       "      <td>-0.488059</td>\n",
       "      <td>5.400507</td>\n",
       "      <td>3.933600</td>\n",
       "      <td>-0.289859</td>\n",
       "    </tr>\n",
       "    <tr>\n",
       "      <th>1998</th>\n",
       "      <td>0.778784</td>\n",
       "      <td>1.663261</td>\n",
       "      <td>2.354036</td>\n",
       "      <td>-0.486425</td>\n",
       "      <td>1.502824</td>\n",
       "      <td>-0.359302</td>\n",
       "      <td>0.743826</td>\n",
       "    </tr>\n",
       "    <tr>\n",
       "      <th>1999</th>\n",
       "      <td>0.036160</td>\n",
       "      <td>0.856012</td>\n",
       "      <td>-1.196567</td>\n",
       "      <td>1.486408</td>\n",
       "      <td>-0.705981</td>\n",
       "      <td>0.325287</td>\n",
       "      <td>1.000380</td>\n",
       "    </tr>\n",
       "  </tbody>\n",
       "</table>\n",
       "<p>2000 rows × 7 columns</p>\n",
       "</div>"
      ],
      "text/plain": [
       "            Z1        Z2        Z3        Z4        Z5        Z6        Z7\n",
       "0     0.453348  0.436025 -0.763606 -0.028544  1.720200 -0.650067 -1.308243\n",
       "1     2.176822  1.772313  0.949379  2.944266  1.242207  1.162728 -0.195960\n",
       "2     1.553103  2.194483  1.326759  1.344620  3.368614  5.445869 -2.321817\n",
       "3     1.603594  1.475123  1.187626  0.840459  3.172912 -0.810862  1.910857\n",
       "4     1.044651  0.492315  2.640046  1.388251 -0.162322  1.222865  2.770226\n",
       "...        ...       ...       ...       ...       ...       ...       ...\n",
       "1995  1.690050  2.121014  0.247932 -0.767562  2.701290  0.040617  1.007946\n",
       "1996  1.882140  2.555930  2.903855  1.875142 -1.138655  4.058159 -0.580152\n",
       "1997  1.086196  2.093573  1.078129 -0.488059  5.400507  3.933600 -0.289859\n",
       "1998  0.778784  1.663261  2.354036 -0.486425  1.502824 -0.359302  0.743826\n",
       "1999  0.036160  0.856012 -1.196567  1.486408 -0.705981  0.325287  1.000380\n",
       "\n",
       "[2000 rows x 7 columns]"
      ]
     },
     "execution_count": 11,
     "metadata": {},
     "output_type": "execute_result"
    }
   ],
   "source": [
    "df"
   ]
  },
  {
   "cell_type": "code",
   "execution_count": 13,
   "id": "5d8cfb83",
   "metadata": {},
   "outputs": [
    {
     "data": {
      "text/plain": [
       "array([[0, 0, 0, 0, 0, 0, 0],\n",
       "       [0, 0, 0, 0, 0, 0, 0],\n",
       "       [0, 0, 0, 0, 0, 0, 1],\n",
       "       [0, 0, 0, 0, 0, 0, 0],\n",
       "       [0, 0, 0, 0, 0, 0, 1],\n",
       "       [0, 0, 0, 0, 0, 0, 0],\n",
       "       [0, 0, 0, 0, 0, 0, 0]])"
      ]
     },
     "execution_count": 13,
     "metadata": {},
     "output_type": "execute_result"
    }
   ],
   "source": [
    "dag.binary_matrix"
   ]
  },
  {
   "cell_type": "code",
   "execution_count": 12,
   "id": "ea2ed97a",
   "metadata": {},
   "outputs": [
    {
     "data": {
      "image/png": "[encoded data removed]",
      "text/plain": [
       "<Figure size 640x480 with 1 Axes>"
      ]
     },
     "metadata": {},
     "output_type": "display_data"
    }
   ],
   "source": [
    "dag.draw_DAG()"
   ]
  },
  {
   "cell_type": "code",
   "execution_count": null,
   "id": "84d46e44",
   "metadata": {},
   "outputs": [],
   "source": [
    "df.corr()"
   ]
  },
  {
   "cell_type": "code",
   "execution_count": null,
   "id": "dc53cf43",
   "metadata": {},
   "outputs": [],
   "source": []
  }
 ],
 "metadata": {
  "kernelspec": {
   "display_name": "deepcause",
   "language": "python",
   "name": "python3"
  },
  "language_info": {
   "codemirror_mode": {
    "name": "ipython",
    "version": 3
   },
   "file_extension": ".py",
   "mimetype": "text/x-python",
   "name": "python",
   "nbconvert_exporter": "python",
   "pygments_lexer": "ipython3",
   "version": "3.8.15"
  }
 },
 "nbformat": 4,
 "nbformat_minor": 5
}
